{
 "cells": [
  {
   "cell_type": "code",
   "execution_count": 59,
   "metadata": {},
   "outputs": [],
   "source": [
    "# Question: https://projecteuler.net/problem=463"
   ]
  },
  {
   "cell_type": "markdown",
   "metadata": {},
   "source": [
    "This [link](https://math.stackexchange.com/questions/3330056/my-solution-for-imo-1988-problem-3) shows that $f(n)$ is the reversed representation of $n$ in base $2$. For example,\n",
    "$$\n",
    "23 = 10111_2\\\\\n",
    "f(23) = 11101_2 = 29\n",
    "$$"
   ]
  },
  {
   "cell_type": "code",
   "execution_count": 60,
   "metadata": {},
   "outputs": [
    {
     "name": "stdout",
     "output_type": "stream",
     "text": [
      "1 1\n",
      "2 1\n",
      "3 3\n",
      "4 1\n",
      "5 5\n",
      "6 3\n",
      "7 7\n",
      "8 1\n",
      "9 9\n",
      "10 5\n",
      "11 13\n",
      "12 3\n",
      "13 11\n",
      "14 7\n",
      "15 15\n",
      "16 1\n",
      "17 17\n",
      "18 9\n",
      "19 25\n",
      "20 5\n",
      "21 21\n",
      "22 13\n",
      "23 29\n",
      "24 3\n",
      "25 19\n",
      "26 11\n",
      "27 27\n",
      "28 7\n",
      "29 23\n",
      "30 15\n",
      "31 31\n"
     ]
    }
   ],
   "source": [
    "def f(n):\n",
    "    if n == 1 or n == 3:\n",
    "        return n\n",
    "    if n % 2 == 0:\n",
    "        return f(n//2)\n",
    "    if n % 4 == 1:\n",
    "        return 2 * f((n//4)*2 + 1) - f(n//4)\n",
    "    return 3 * f((n//4)*2 + 1) - 2 * f(n//4)\n",
    "\n",
    "for n in range(1,32):\n",
    "    print(n, f(n))"
   ]
  },
  {
   "cell_type": "markdown",
   "metadata": {},
   "source": [
    "Define that, a number $x$ is called to be represented by $n$ bits (in base $2$) if the $n$ digit of $x$ in base $2$ is $1$.\n",
    "\n",
    "Observation 1: For numbers represented by $n$ bits, the set contains their images under $f$ can be formed by adding bit 1 to the right side of each of numbers represented by $n-1$ bits. For example, for $n=3$, the image of\n",
    "$$\n",
    "\\left\\{ 100_2, 101_2, 110_2, 111_2 \\right\\}\n",
    "$$\n",
    "is\n",
    "$$\n",
    "\\left\\{ \\underline{00}1_2, \\underline{10}1_2, \\underline{01}1_2, \\underline{11}1_2 \\right\\}\n",
    "$$\n",
    "\n",
    "Let $T(n)$ be the sum of the image of the set of numbers represented by $n$ bits under $f$. From the observation above, we have,\n",
    "$$\n",
    "T(n) = \\left[ \\sum_{k=0}^{2^n-1}\\left( 2k+1 \\right) \\right] = 2^{2n-2}\n",
    "$$\n",
    "\n",
    "Let $P(n)$ be the sum of $f(x)$ for all $x$ represented by no more than $n$ bits. Then,\n",
    "$$\n",
    "P(n) = \\sum_{k=1}^{n}T(k) = \\sum_{k=1}^{n} \\left(2^{2n-2}\\right) = \\frac{2^{2n}-1}{3}\n",
    "$$\n",
    "\n",
    "Note that, we cannot calculate the answer using only $P(n)$. Let $k+1$ be the number of bits required to represent $N$ in base $2$, where $N = 3^37$ in the question. Then, the answer is $P(k) + \\sum_{x=2^k}^{N}f(x)$. To calculate $\\sum_{x=2^k}^{N}f(x)$, we can use the observation 2.\n",
    "\n",
    "Observation 2: this is followed from observation 1. Consider numbers represented by $n$ bits in order and their images under $f$. Let $d_i$ denote the $i^{th}$ digit of a number $x$ represented by $n$ bits, and let $f(x)=y$. We have,\n",
    "$$\n",
    "f(x) = f((d_1, d_2, d_3, ..., d_n)) = (d_n, ..., d_3, d_2, d_1)\n",
    "$$\n",
    "For all such number $x$ in order, the $(n+1-i)^{th}$ digit of $y$ follows the pattern of the $i^{th}$ digit of $x$.\n",
    "The pattern of the $i^{th}$ digit of $x$ in order is, if $i=n$, then the digits are all ones, otherwise, the digits have a periodic pattern of length $2^i$, where the first half of the period contains zeros, while the second half of the period contains ones.\n",
    "\n",
    "For example,\n",
    "\n",
    "$\\texttt{--x-- | --y--}$\n",
    "\n",
    "$\\texttt{10000 | 00001}$\n",
    "\n",
    "$\\texttt{10001 | 10001}$\n",
    "$\\texttt{10010 | 01001}$\n",
    "$\\texttt{10011 | 11001}$\n",
    "$\\texttt{10100 | 00101}$\n",
    "$\\texttt{10101 | 10101}$\n",
    "$\\texttt{10110 | 01101}$\n",
    "$\\texttt{10111 | 11101}$\n",
    "$\\texttt{11000 | 00011}$\n",
    "$\\texttt{11001 | 10011}$\n",
    "$\\texttt{11010 | 01011}$\n",
    "$\\texttt{11011 | 11011}$\n",
    "$\\texttt{11100 | 00111}$\n",
    "$\\texttt{11101 | 10111}$\n",
    "$\\texttt{11110 | 01111}$\n",
    "$\\texttt{11111 | 11111}$\n",
    "\n"
   ]
  },
  {
   "cell_type": "code",
   "execution_count": 84,
   "metadata": {},
   "outputs": [],
   "source": [
    "def P(n): # calculate the partial sum: 2^0 + 2^2 + 2^4 + ... + 2^(2n)\n",
    "    return (2**(2*n)-1) // 3\n",
    "def find_k(n): # find largest k such that 2**k-1 <= n\n",
    "    n = n + 1\n",
    "    k = int(log(n)/log(2))\n",
    "    return k"
   ]
  },
  {
   "cell_type": "code",
   "execution_count": 85,
   "metadata": {},
   "outputs": [
    {
     "name": "stdout",
     "output_type": "stream",
     "text": [
      "808981553\n"
     ]
    }
   ],
   "source": [
    "N = 3**37\n",
    "k = find_k(N)\n",
    "ans = 0\n",
    "ans += P(k)\n",
    "n_bits = k + 1\n",
    "n_remaining = N - (2**k-1)\n",
    "\n",
    "sum = n_remaining\n",
    "periods = [1]\n",
    "for b in range(n_bits-1, 0, -1):\n",
    "    periods.append(2**b)\n",
    "base = 2\n",
    "for period_length in periods[1:]:\n",
    "    n_cycles = n_remaining // period_length\n",
    "    n_remaining_incomplete_cycle = n_remaining % period_length\n",
    "    v = n_cycles * period_length // 2\n",
    "    if n_remaining_incomplete_cycle > period_length // 2:\n",
    "        v += n_remaining_incomplete_cycle - period_length // 2\n",
    "\n",
    "    v = v * base\n",
    "    sum += v\n",
    "    base = base * 2\n",
    "\n",
    "ans += sum\n",
    "print(ans % (10**9))"
   ]
  }
 ],
 "metadata": {
  "kernelspec": {
   "display_name": "SageMath 9.2",
   "language": "sage",
   "name": "sagemath"
  },
  "language_info": {
   "codemirror_mode": {
    "name": "ipython",
    "version": 3
   },
   "file_extension": ".py",
   "mimetype": "text/x-python",
   "name": "python",
   "nbconvert_exporter": "python",
   "pygments_lexer": "ipython3",
   "version": "3.8.5"
  }
 },
 "nbformat": 4,
 "nbformat_minor": 4
}
