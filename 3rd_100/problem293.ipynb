{
 "cells": [
  {
   "cell_type": "code",
   "execution_count": null,
   "metadata": {},
   "outputs": [],
   "source": [
    "# Question: https://projecteuler.net/problem=293"
   ]
  },
  {
   "cell_type": "code",
   "execution_count": 1,
   "metadata": {},
   "outputs": [
    {
     "name": "stdout",
     "output_type": "stream",
     "text": [
      "[2, 3, 5, 7, 11, 13, 17, 19, 23]\n"
     ]
    }
   ],
   "source": [
    "# Note that we want even products of consecutive distinct prime factors, we only need at most the first 9 primes to form\n",
    "# the desired numbers since the product of the first 10 primes is greater than 10^9.\n",
    "\n",
    "N = 10**9\n",
    "primes = []\n",
    "p = 1\n",
    "product = 1\n",
    "while True:\n",
    "    next_p = next_prime(p)\n",
    "    product = product * next_p\n",
    "    if product > N:\n",
    "        break\n",
    "    p = next_p\n",
    "    primes.append(p)\n",
    "print(primes)"
   ]
  },
  {
   "cell_type": "code",
   "execution_count": 2,
   "metadata": {},
   "outputs": [
    {
     "name": "stdout",
     "output_type": "stream",
     "text": [
      "2209\n"
     ]
    }
   ],
   "source": [
    "count = 0\n",
    "def dfs(depth, primes, curr_product, s):\n",
    "    if depth == len(primes):\n",
    "        return 0\n",
    "    ans = 0\n",
    "    if not curr_product == 1:\n",
    "        s.add(next_prime(curr_product+1) - curr_product)\n",
    "    while True:\n",
    "        curr_product *= primes[depth]\n",
    "        if curr_product > N:\n",
    "            break\n",
    "        dfs(depth+1, primes, curr_product, s)\n",
    "    return ans\n",
    "\n",
    "s = set()\n",
    "dfs(0, primes, 1, s)\n",
    "ans = sum(s)\n",
    "print(ans)"
   ]
  }
 ],
 "metadata": {
  "kernelspec": {
   "display_name": "SageMath 9.2",
   "language": "sage",
   "name": "sagemath"
  },
  "language_info": {
   "codemirror_mode": {
    "name": "ipython",
    "version": 3
   },
   "file_extension": ".py",
   "mimetype": "text/x-python",
   "name": "python",
   "nbconvert_exporter": "python",
   "pygments_lexer": "ipython3",
   "version": "3.8.5"
  }
 },
 "nbformat": 4,
 "nbformat_minor": 4
}
