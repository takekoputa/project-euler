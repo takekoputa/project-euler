{
 "cells": [
  {
   "cell_type": "code",
   "execution_count": null,
   "id": "german-picking",
   "metadata": {},
   "outputs": [],
   "source": [
    "# Question: https://projecteuler.net/problem=359"
   ]
  },
  {
   "cell_type": "markdown",
   "id": "defined-wages",
   "metadata": {},
   "source": [
    "### Finding patterns"
   ]
  },
  {
   "cell_type": "code",
   "execution_count": 3,
   "id": "divided-crowd",
   "metadata": {},
   "outputs": [
    {
     "name": "stdout",
     "output_type": "stream",
     "text": [
      "[]\n",
      "[0, 1, 3, 6, 10, 15, 21, 28, 36, 45, 55, 66, 78, 91, 105, 120, 136, 153, 171, 190, 210, 231, 253, 276, 300, 325, 351, 378, 406, 435]\n",
      "[0, 2, 7, 9, 16, 20, 29, 35, 46, 54, 67, 77, 92, 104, 121, 135, 154, 170, 191, 209, 232, 252, 277, 299, 326, 350, 379, 405, 436]\n",
      "[0, 4, 5, 11, 14, 22, 27, 37, 44, 56, 65, 79, 90, 106, 119, 137, 152, 172, 189, 211, 230, 254, 275, 301, 324, 352, 377, 407, 434]\n",
      "[0, 8, 17, 19, 30, 34, 47, 53, 68, 76, 93, 103, 122, 134, 155, 169, 192, 208, 233, 251, 278, 298, 327, 349, 380, 404, 437]\n",
      "[0, 12, 13, 23, 26, 38, 43, 57, 64, 80, 89, 107, 118, 138, 151, 173, 188, 212, 229, 255, 274, 302, 323, 353, 376, 408, 433]\n",
      "[0, 18, 31, 33, 48, 52, 69, 75, 94, 102, 123, 133, 156, 168, 193, 207, 234, 250, 279, 297, 328, 348, 381, 403, 438]\n",
      "[0, 24, 25, 39, 42, 58, 63, 81, 88, 108, 117, 139, 150, 174, 187, 213, 228, 256, 273, 303, 322, 354, 375, 409, 432]\n",
      "[0, 32, 49, 51, 70, 74, 95, 101, 124, 132, 157, 167, 194, 206, 235, 249, 280, 296, 329, 347, 382, 402, 439]\n",
      "[0, 40, 41, 59, 62, 82, 87, 109, 116, 140, 149, 175, 186, 214, 227, 257, 272, 304, 321, 355, 374, 410, 431]\n",
      "[0, 50, 71, 73, 96, 100, 125, 131, 158, 166, 195, 205, 236, 248, 281, 295, 330, 346, 383, 401, 440]\n",
      "[0, 60, 61, 83, 86, 110, 115, 141, 148, 176, 185, 215, 226, 258, 271, 305, 320, 356, 373, 411, 430]\n",
      "[0, 72, 97, 99, 126, 130, 159, 165, 196, 204, 237, 247, 282, 294, 331, 345, 384, 400]\n",
      "[0, 84, 85, 111, 114, 142, 147, 177, 184, 216, 225, 259, 270, 306, 319, 357, 372, 412, 429]\n",
      "[0, 98, 127, 129, 160, 164, 197, 203, 238, 246, 283, 293, 332, 344, 385, 399]\n",
      "[0, 112, 113, 143, 146, 178, 183, 217, 224, 260, 269, 307, 318, 358, 371, 413, 428]\n",
      "[0, 128, 161, 163, 198, 202, 239, 245, 284, 292, 333, 343, 386, 398]\n",
      "[0, 144, 145, 179, 182, 218, 223, 261, 268, 308, 317, 359, 370, 414, 427]\n",
      "[0, 162, 199, 201, 240, 244, 285, 291, 334, 342, 387, 397]\n",
      "[0, 180, 181, 219, 222, 262, 267, 309, 316, 360, 369, 415, 426]\n",
      "[0, 200, 241, 243, 286, 290, 335, 341, 388, 396]\n",
      "[0, 220, 221, 263, 266, 310, 315, 361, 368, 416, 425]\n",
      "[0, 242, 287, 289, 336, 340, 389, 395]\n",
      "[0, 264, 265, 311, 314, 362, 367, 417, 424]\n",
      "[0, 288, 337, 339, 390, 394]\n",
      "[0, 312, 313, 363, 366, 418, 423]\n",
      "[0, 338, 391, 393]\n",
      "[0, 364, 365, 419, 422]\n",
      "[0, 392]\n",
      "[0, 420, 421]\n"
     ]
    }
   ],
   "source": [
    "# Creating the P(f, r) table\n",
    "import math\n",
    "\n",
    "def is_perfect_square(n):\n",
    "    return n == math.isqrt(n) ** 2\n",
    "\n",
    "P = [[]]\n",
    "N = 440\n",
    "for n in range(1, N+1):\n",
    "    found = False\n",
    "    n_floors = len(P)\n",
    "    for floor in range(1, n_floors):\n",
    "        if is_perfect_square(n + P[floor][-1]):\n",
    "            found = True\n",
    "            P[floor].append(n)\n",
    "            break\n",
    "    if not found:\n",
    "        P.append([0, n])\n",
    "assert(P[1][1] == 1)\n",
    "assert(P[1][2] == 3)\n",
    "assert(P[2][1] == 2)\n",
    "assert(P[10][20] == 440)\n",
    "\n",
    "# Print the P table\n",
    "for floor in P:\n",
    "    print(floor)"
   ]
  },
  {
   "cell_type": "markdown",
   "id": "accompanied-stick",
   "metadata": {},
   "source": [
    "### Observations\n",
    "-  [1] The sequence of $P[f, 1]$ has a pattern.\n",
    "-  [2] For all $(f,r)$, we have $P[f, r] + P[f, r+1]$ is a perfect square.\n",
    "-  [3] For all possible $(f,r)$, we have $sqrt(P[f,r+1]+P[f,r+2]) - sqrt(P[f,r]+P[f,r+1]) = 1$."
   ]
  },
  {
   "cell_type": "markdown",
   "id": "focal-catch",
   "metadata": {},
   "source": [
    "### Finding the pattern of $P[f,1]$"
   ]
  },
  {
   "cell_type": "code",
   "execution_count": 9,
   "id": "sufficient-benefit",
   "metadata": {},
   "outputs": [
    {
     "name": "stdout",
     "output_type": "stream",
     "text": [
      "The P[f,1] sequence:\n",
      "[0, 1, 2, 4, 8, 12, 18, 24, 32, 40, 50, 60, 72, 84, 98, 112, 128, 144, 162, 180, 200, 220, 242, 264, 288, 312, 338, 364, 392, 420]\n",
      "The P[f+1,1] - P[f,1] sequence:\n",
      "[1, 1, 2, 4, 4, 6, 6, 8, 8, 10, 10, 12, 12, 14, 14, 16, 16, 18, 18, 20, 20, 22, 22, 24, 24, 26, 26, 28, 28]\n"
     ]
    }
   ],
   "source": [
    "seq = [0]\n",
    "for f in P[1:]:\n",
    "    seq.append(f[1])\n",
    "print(\"The P[f,1] sequence:\")\n",
    "print(seq)\n",
    "\n",
    "diff = []\n",
    "for i in range(1, len(seq)):\n",
    "    diff.append(seq[i] - seq[i-1])\n",
    "print(\"The P[f+1,1] - P[f,1] sequence:\")\n",
    "print(diff)"
   ]
  },
  {
   "cell_type": "markdown",
   "id": "blessed-magnet",
   "metadata": {},
   "source": [
    "Let $seed(n) = P[n, 1]$.\n",
    "Ignoring $n = 0$, we have:\n",
    "\n",
    "$$ seed(n) = \\left\\{\n",
    "\\begin{array}{ll}\n",
    "      1 & \\text{if } n = 1 \\\\\n",
    "      2 & \\text{if } n = 2 \\\\\n",
    "      4 & \\text{if } n = 3 \\\\\n",
    "      \\lfloor \\frac{n}{2} \\rfloor * \\left( \\lfloor \\frac{n}{2}\\rfloor + 1 \\right) \\times 2 & \\text{if } n \\text{ is odd} \\\\\n",
    "      seed(n-1) + n & \\text{if } n \\text{ is even} \\\\\n",
    "\\end{array} \n",
    "\\right. $$"
   ]
  },
  {
   "cell_type": "code",
   "execution_count": 12,
   "id": "controversial-canvas",
   "metadata": {},
   "outputs": [],
   "source": [
    "def seed(n):\n",
    "    if n == 1:\n",
    "        return 1\n",
    "    elif n == 2:\n",
    "        return 2\n",
    "    elif n == 3:\n",
    "        return 4\n",
    "    if n % 2 == 1:\n",
    "        return (n // 2) * (n // 2 + 1) * 2\n",
    "    else:\n",
    "        return seed(n-1) + n\n",
    "\n",
    "# check seed(n)\n",
    "for n in range(1, len(seq)):\n",
    "    assert(seed(n) == seq[n])"
   ]
  },
  {
   "cell_type": "markdown",
   "id": "moving-builder",
   "metadata": {},
   "source": [
    "### Finding alternating sum of squares\n",
    "[https://www.wolframalpha.com/input/?i=sum+%28-1%29%5Ek+%28a%2Bk%29%5E2+for+k+in+0+to+c](https://www.wolframalpha.com/input/?i=sum+%28-1%29%5Ek+%28a%2Bk%29%5E2+for+k+in+0+to+c)\n",
    "\n",
    "So,\n",
    "$$\n",
    "\\sum_{k = 0}^{c}(-1)^{k}(a+k)^2 = \\frac{1}{2} \\left[ (-1)^{c}(a+c)(a+c+1) + (a-1)a \\right]\n",
    "$$\n"
   ]
  },
  {
   "cell_type": "markdown",
   "id": "upset-update",
   "metadata": {},
   "source": [
    "### Finding formula for $P(f,r)$\n",
    "-  For a fixed positive integer $f$, let $\\{a_t\\}$ be a sequence such that $a_t = P(f, t)$.\n",
    "-  We observe that for a fixed $a_t$, then $a_{t+1}$ would be the smallest integer such that $a_t < a_{t+1}$ and $a_t + a_{t+1}$ is a perfect square.\n",
    "-  So, from $seed(f) = a_1$, we can find $\\alpha = a_1 + a_2$ by finding the smallest perfect square that is larger than $2 \\times a_1$. (This is because $a_2 > a_1$, so $\\alpha = a_1 + a_2 > a_1 + a_1 = 2a_1$.\n",
    "-  We have,\n",
    "$$\n",
    "a_1 + a_2 = \\alpha^2 \\\\\n",
    "a_2 + a_3 = (\\alpha+1)^2 \\\\\n",
    "a_3 + a_4 = (\\alpha+2)^2 \\\\\n",
    "a_4 + a_5 = (\\alpha+3)^2 \\\\\n",
    "...\n",
    "$$\n",
    "-  So, we can find $a_5 = a_1 - \\alpha^2 + (\\alpha+1)^2 - (\\alpha+2)^2 + (\\alpha+3)^2$.\n",
    "-  Similarly, we can find $a_4 = \\alpha^2 - (\\alpha+1)^2 + (\\alpha+2)^2 - a_1$.\n",
    "-  We can generalize this pattern to\n",
    "$$\n",
    "a_n = \\left| a_1 - \\sum_{k=0}^{n-2}\\left[ (-1)^k (\\alpha+k)^2 \\right] \\right|\n",
    "$$"
   ]
  },
  {
   "cell_type": "code",
   "execution_count": 45,
   "id": "authorized-brown",
   "metadata": {},
   "outputs": [],
   "source": [
    "def alternating_sum(n_from, n_to):\n",
    "    a = n_from\n",
    "    c = n_to - n_from\n",
    "    return ((-1)**(c%2) * (a+c)*(a+c+1) + (a-1)*a) // 2\n",
    "\n",
    "assert(alternating_sum(7,9) == 7**2 - 8**2 + 9**2)\n",
    "assert(alternating_sum(7,10) == 7**2 - 8**2 + 9**2 - 10**2)\n",
    "assert(alternating_sum(8,10) == 8**2 - 9**2 + 10**2)\n",
    "assert(alternating_sum(8,11) == 8**2 - 9**2 + 10**2 - 11**2)\n",
    "\n",
    "def P(f, r):\n",
    "    s = seed(f)\n",
    "    if r == 1:\n",
    "        return s\n",
    "    s2 = s+s+1\n",
    "    alpha = 0\n",
    "    if is_perfect_square(s2):\n",
    "        alpha = math.isqrt(s2)\n",
    "    else:\n",
    "        alpha = math.isqrt(s2) + 1\n",
    "    return abs(s - alternating_sum(alpha,alpha+r-2))"
   ]
  },
  {
   "cell_type": "markdown",
   "id": "powered-turkish",
   "metadata": {},
   "source": [
    "### Finding all $(f,r)$ such that $f \\times r = 71328803586048$\n",
    "We have, $71328803586048 = 2^{27} * 3^{12}$, so $(f,r)$ could be rewriten as,\n",
    "$$\n",
    "f = 2^t * 3^u\\\\\n",
    "r = 2^v * 3^w\n",
    "$$\n",
    "where $t+v=27$ and $u+w=12$."
   ]
  },
  {
   "cell_type": "markdown",
   "id": "identified-addition",
   "metadata": {},
   "source": [
    "### Finding sum of $P(f,r)$"
   ]
  },
  {
   "cell_type": "code",
   "execution_count": 44,
   "id": "inappropriate-natural",
   "metadata": {},
   "outputs": [
    {
     "name": "stdout",
     "output_type": "stream",
     "text": [
      "40632119\n"
     ]
    }
   ],
   "source": [
    "MOD = 10**8\n",
    "N2 = 27\n",
    "N3 = 12\n",
    "\n",
    "ans = 0\n",
    "\n",
    "for t in range(0, N2+1):\n",
    "    v = N2 - t\n",
    "    for u in range(0, N3+1):\n",
    "        w = N3 - u\n",
    "        ans += P((2**t) * (3**u), (2**v) * (3**w))\n",
    "        ans %= MOD\n",
    "print(ans)"
   ]
  }
 ],
 "metadata": {
  "kernelspec": {
   "display_name": "Python 3",
   "language": "python",
   "name": "python3"
  },
  "language_info": {
   "codemirror_mode": {
    "name": "ipython",
    "version": 3
   },
   "file_extension": ".py",
   "mimetype": "text/x-python",
   "name": "python",
   "nbconvert_exporter": "python",
   "pygments_lexer": "ipython3",
   "version": "3.8.5"
  }
 },
 "nbformat": 4,
 "nbformat_minor": 5
}
